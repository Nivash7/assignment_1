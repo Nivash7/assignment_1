{
  "cells": [
    {
      "cell_type": "markdown",
      "metadata": {
        "id": "view-in-github",
        "colab_type": "text"
      },
      "source": [
        "<a href=\"https://colab.research.google.com/github/Nivash7/assignment_1/blob/main/Assessment2B.ipynb\" target=\"_parent\"><img src=\"https://colab.research.google.com/assets/colab-badge.svg\" alt=\"Open In Colab\"/></a>"
      ]
    },
    {
      "cell_type": "markdown",
      "metadata": {
        "id": "c1xdzqf0C_jd"
      },
      "source": [
        "###### Assessment"
      ]
    },
    {
      "cell_type": "markdown",
      "metadata": {
        "id": "EDjrrPdpC_jh"
      },
      "source": [
        "###### I am going to provide two .csv files , you are supposed to work on them and have to provide solutions to the following problems"
      ]
    },
    {
      "cell_type": "markdown",
      "metadata": {
        "id": "qgqsdbQfC_ji"
      },
      "source": [
        "###### import necessary libraries"
      ]
    },
    {
      "cell_type": "code",
      "execution_count": 4,
      "metadata": {
        "id": "um4_TNXeC_jj"
      },
      "outputs": [],
      "source": [
        "import pandas as pd\n",
        "import numpy as np"
      ]
    },
    {
      "cell_type": "markdown",
      "metadata": {
        "id": "xeBDUcw6C_jk"
      },
      "source": [
        "###### merge those two csv files (after getting as dataframes, get them as a single dataframe)"
      ]
    },
    {
      "cell_type": "code",
      "execution_count": 34,
      "metadata": {
        "colab": {
          "base_uri": "https://localhost:8080/"
        },
        "id": "qK3u5WdkC_jl",
        "outputId": "acb7a046-25ea-450d-80fa-f2f034e78d3e"
      },
      "outputs": [
        {
          "output_type": "stream",
          "name": "stdout",
          "text": [
            "                                                   Name  python  mysql  \\\n",
            "(ASHOK KUMAR K, 100, 0, 31, 9, 19400, 19400, El...  NaN     NaN    NaN   \n",
            "(Chandru, 0, 20, 0, 0, 14150, 14490, Computer S...  NaN     NaN    NaN   \n",
            "(Ganesh Ramkumar R, -1, 55, 24, 6, 8790, 10790,...  NaN     NaN    NaN   \n",
            "(Bodipudi Harini, -1, 0, 35, -1, 10040, 10040, ...  NaN     NaN    NaN   \n",
            "(VIINU V P, -1, 100, 24, -1, 9150, 9150, Electr...  NaN     NaN    NaN   \n",
            "( Poojitha Y, 0, 78, 35, 0, 7210, 8970, Compute...  NaN     NaN    NaN   \n",
            "(Gowtham Chandrasekaran, -1, 0, 0, 3, 7250, 895...  NaN     NaN    NaN   \n",
            "(Gowtham R, -1, 60, 4, 6, 8650, 8650, Electroni...  NaN     NaN    NaN   \n",
            "(shifak N, 58, 0, 0, 0, 5180, 8320, Electronics...  NaN     NaN    NaN   \n",
            "(Balaji , -1, 100, 20, 0, 6170, 8160, Electroni...  NaN     NaN    NaN   \n",
            "(Rushitha, -1, 15, 62, 9, 7470, 8090, Computer ...  NaN     NaN    NaN   \n",
            "(Balaraman Muthupandi, -1, 9, 0, 0, 7670, 8050,...  NaN     NaN    NaN   \n",
            "(JPradhap, 100, 0, 0, 0, 7340, 8030, Electronic...  NaN     NaN    NaN   \n",
            "(SRIRAMKUMAR B, -1, 0, 0, 0, 6400, 7940, Comput...  NaN     NaN    NaN   \n",
            "(Praneetha, -1, 23, 100, -1, 7170, 7730, Electr...  NaN     NaN    NaN   \n",
            "(Rahul Raj K, -1, 0, 0, 0, 6280, 7640, Computer...  NaN     NaN    NaN   \n",
            "(Guhan S, -1, 72, 35, 39, 7310, 7630, Electroni...  NaN     NaN    NaN   \n",
            "(Suryarajan S, -1, 63, 31, 0, 6710, 7550, Compu...  NaN     NaN    NaN   \n",
            "(Narasimhan Y L, -1, -1, 0, 0, 4800, 6800, Comp...  NaN     NaN    NaN   \n",
            "(Leelakrishna, -1, 6, 4, 0, 5300, 6640, Compute...  NaN     NaN    NaN   \n",
            "(PremsagarReddy, -1, 20, 0, 0, 5290, 6290, Comp...  NaN     NaN    NaN   \n",
            "(pradeeban, 16, 20, 24, 0, 6060, 6090, Computer...  NaN     NaN    NaN   \n",
            "(santhoshini, -1, 43, 0, 0, 3910, 5740, Compute...  NaN     NaN    NaN   \n",
            "(MUKESH S M, -1, 46, 0, 0, 5200, 5200, Computer...  NaN     NaN    NaN   \n",
            "(P.GOVARDHANAN, -1, 40, 0, -1, 5050, 5050, Elec...  NaN     NaN    NaN   \n",
            "(SHAIK DANISH, -1, 43, 0, 0, 4050, 4820, Comput...  NaN     NaN    NaN   \n",
            "(sridhar.s, -1, 52, 0, 0, 3860, 4440, Computer ...  NaN     NaN    NaN   \n",
            "(Vimalesh Fernando, -1, 0, 0, 0, 4170, 4170, Co...  NaN     NaN    NaN   \n",
            "(M.Karthikeyan, -1, 0, 4, 6, 4020, 4020, Comput...  NaN     NaN    NaN   \n",
            "(Abishak s, -1, 55, 35, 6, 3220, 3220, Electron...  NaN     NaN    NaN   \n",
            "(praveen raj j, 24, -1, 0, 0, 2380, 2380, Compu...  NaN     NaN    NaN   \n",
            "(AMARNATH D, -1, 52, 12, -1, 1890, 1890, Electr...  NaN     NaN    NaN   \n",
            "(bala, 32, 49, 0, -1, 1720, 1720, Electronics a...  NaN     NaN    NaN   \n",
            "(XY Z, -1, 20, -1, -1, 0, 0, Computer Science a...  NaN     NaN    NaN   \n",
            "(Hariharan, -1, -1, -1, 0, 0, 0, Computer Scien...  NaN     NaN    NaN   \n",
            "\n",
            "                                                    Previous Geekions  \\\n",
            "(ASHOK KUMAR K, 100, 0, 31, 9, 19400, 19400, El...                NaN   \n",
            "(Chandru, 0, 20, 0, 0, 14150, 14490, Computer S...                NaN   \n",
            "(Ganesh Ramkumar R, -1, 55, 24, 6, 8790, 10790,...                NaN   \n",
            "(Bodipudi Harini, -1, 0, 35, -1, 10040, 10040, ...                NaN   \n",
            "(VIINU V P, -1, 100, 24, -1, 9150, 9150, Electr...                NaN   \n",
            "( Poojitha Y, 0, 78, 35, 0, 7210, 8970, Compute...                NaN   \n",
            "(Gowtham Chandrasekaran, -1, 0, 0, 3, 7250, 895...                NaN   \n",
            "(Gowtham R, -1, 60, 4, 6, 8650, 8650, Electroni...                NaN   \n",
            "(shifak N, 58, 0, 0, 0, 5180, 8320, Electronics...                NaN   \n",
            "(Balaji , -1, 100, 20, 0, 6170, 8160, Electroni...                NaN   \n",
            "(Rushitha, -1, 15, 62, 9, 7470, 8090, Computer ...                NaN   \n",
            "(Balaraman Muthupandi, -1, 9, 0, 0, 7670, 8050,...                NaN   \n",
            "(JPradhap, 100, 0, 0, 0, 7340, 8030, Electronic...                NaN   \n",
            "(SRIRAMKUMAR B, -1, 0, 0, 0, 6400, 7940, Comput...                NaN   \n",
            "(Praneetha, -1, 23, 100, -1, 7170, 7730, Electr...                NaN   \n",
            "(Rahul Raj K, -1, 0, 0, 0, 6280, 7640, Computer...                NaN   \n",
            "(Guhan S, -1, 72, 35, 39, 7310, 7630, Electroni...                NaN   \n",
            "(Suryarajan S, -1, 63, 31, 0, 6710, 7550, Compu...                NaN   \n",
            "(Narasimhan Y L, -1, -1, 0, 0, 4800, 6800, Comp...                NaN   \n",
            "(Leelakrishna, -1, 6, 4, 0, 5300, 6640, Compute...                NaN   \n",
            "(PremsagarReddy, -1, 20, 0, 0, 5290, 6290, Comp...                NaN   \n",
            "(pradeeban, 16, 20, 24, 0, 6060, 6090, Computer...                NaN   \n",
            "(santhoshini, -1, 43, 0, 0, 3910, 5740, Compute...                NaN   \n",
            "(MUKESH S M, -1, 46, 0, 0, 5200, 5200, Computer...                NaN   \n",
            "(P.GOVARDHANAN, -1, 40, 0, -1, 5050, 5050, Elec...                NaN   \n",
            "(SHAIK DANISH, -1, 43, 0, 0, 4050, 4820, Comput...                NaN   \n",
            "(sridhar.s, -1, 52, 0, 0, 3860, 4440, Computer ...                NaN   \n",
            "(Vimalesh Fernando, -1, 0, 0, 0, 4170, 4170, Co...                NaN   \n",
            "(M.Karthikeyan, -1, 0, 4, 6, 4020, 4020, Comput...                NaN   \n",
            "(Abishak s, -1, 55, 35, 6, 3220, 3220, Electron...                NaN   \n",
            "(praveen raj j, 24, -1, 0, 0, 2380, 2380, Compu...                NaN   \n",
            "(AMARNATH D, -1, 52, 12, -1, 1890, 1890, Electr...                NaN   \n",
            "(bala, 32, 49, 0, -1, 1720, 1720, Electronics a...                NaN   \n",
            "(XY Z, -1, 20, -1, -1, 0, 0, Computer Science a...                NaN   \n",
            "(Hariharan, -1, -1, -1, 0, 0, 0, Computer Scien...                NaN   \n",
            "\n",
            "                                                    CodeKata Score Department  \\\n",
            "(ASHOK KUMAR K, 100, 0, 31, 9, 19400, 19400, El...             NaN        NaN   \n",
            "(Chandru, 0, 20, 0, 0, 14150, 14490, Computer S...             NaN        NaN   \n",
            "(Ganesh Ramkumar R, -1, 55, 24, 6, 8790, 10790,...             NaN        NaN   \n",
            "(Bodipudi Harini, -1, 0, 35, -1, 10040, 10040, ...             NaN        NaN   \n",
            "(VIINU V P, -1, 100, 24, -1, 9150, 9150, Electr...             NaN        NaN   \n",
            "( Poojitha Y, 0, 78, 35, 0, 7210, 8970, Compute...             NaN        NaN   \n",
            "(Gowtham Chandrasekaran, -1, 0, 0, 3, 7250, 895...             NaN        NaN   \n",
            "(Gowtham R, -1, 60, 4, 6, 8650, 8650, Electroni...             NaN        NaN   \n",
            "(shifak N, 58, 0, 0, 0, 5180, 8320, Electronics...             NaN        NaN   \n",
            "(Balaji , -1, 100, 20, 0, 6170, 8160, Electroni...             NaN        NaN   \n",
            "(Rushitha, -1, 15, 62, 9, 7470, 8090, Computer ...             NaN        NaN   \n",
            "(Balaraman Muthupandi, -1, 9, 0, 0, 7670, 8050,...             NaN        NaN   \n",
            "(JPradhap, 100, 0, 0, 0, 7340, 8030, Electronic...             NaN        NaN   \n",
            "(SRIRAMKUMAR B, -1, 0, 0, 0, 6400, 7940, Comput...             NaN        NaN   \n",
            "(Praneetha, -1, 23, 100, -1, 7170, 7730, Electr...             NaN        NaN   \n",
            "(Rahul Raj K, -1, 0, 0, 0, 6280, 7640, Computer...             NaN        NaN   \n",
            "(Guhan S, -1, 72, 35, 39, 7310, 7630, Electroni...             NaN        NaN   \n",
            "(Suryarajan S, -1, 63, 31, 0, 6710, 7550, Compu...             NaN        NaN   \n",
            "(Narasimhan Y L, -1, -1, 0, 0, 4800, 6800, Comp...             NaN        NaN   \n",
            "(Leelakrishna, -1, 6, 4, 0, 5300, 6640, Compute...             NaN        NaN   \n",
            "(PremsagarReddy, -1, 20, 0, 0, 5290, 6290, Comp...             NaN        NaN   \n",
            "(pradeeban, 16, 20, 24, 0, 6060, 6090, Computer...             NaN        NaN   \n",
            "(santhoshini, -1, 43, 0, 0, 3910, 5740, Compute...             NaN        NaN   \n",
            "(MUKESH S M, -1, 46, 0, 0, 5200, 5200, Computer...             NaN        NaN   \n",
            "(P.GOVARDHANAN, -1, 40, 0, -1, 5050, 5050, Elec...             NaN        NaN   \n",
            "(SHAIK DANISH, -1, 43, 0, 0, 4050, 4820, Comput...             NaN        NaN   \n",
            "(sridhar.s, -1, 52, 0, 0, 3860, 4440, Computer ...             NaN        NaN   \n",
            "(Vimalesh Fernando, -1, 0, 0, 0, 4170, 4170, Co...             NaN        NaN   \n",
            "(M.Karthikeyan, -1, 0, 4, 6, 4020, 4020, Comput...             NaN        NaN   \n",
            "(Abishak s, -1, 55, 35, 6, 3220, 3220, Electron...             NaN        NaN   \n",
            "(praveen raj j, 24, -1, 0, 0, 2380, 2380, Compu...             NaN        NaN   \n",
            "(AMARNATH D, -1, 52, 12, -1, 1890, 1890, Electr...             NaN        NaN   \n",
            "(bala, 32, 49, 0, -1, 1720, 1720, Electronics a...             NaN        NaN   \n",
            "(XY Z, -1, 20, -1, -1, 0, 0, Computer Science a...             NaN        NaN   \n",
            "(Hariharan, -1, -1, -1, 0, 0, 0, Computer Scien...             NaN        NaN   \n",
            "\n",
            "                                                    Rising  \n",
            "(ASHOK KUMAR K, 100, 0, 31, 9, 19400, 19400, El...     NaN  \n",
            "(Chandru, 0, 20, 0, 0, 14150, 14490, Computer S...     NaN  \n",
            "(Ganesh Ramkumar R, -1, 55, 24, 6, 8790, 10790,...     NaN  \n",
            "(Bodipudi Harini, -1, 0, 35, -1, 10040, 10040, ...     NaN  \n",
            "(VIINU V P, -1, 100, 24, -1, 9150, 9150, Electr...     NaN  \n",
            "( Poojitha Y, 0, 78, 35, 0, 7210, 8970, Compute...     NaN  \n",
            "(Gowtham Chandrasekaran, -1, 0, 0, 3, 7250, 895...     NaN  \n",
            "(Gowtham R, -1, 60, 4, 6, 8650, 8650, Electroni...     NaN  \n",
            "(shifak N, 58, 0, 0, 0, 5180, 8320, Electronics...     NaN  \n",
            "(Balaji , -1, 100, 20, 0, 6170, 8160, Electroni...     NaN  \n",
            "(Rushitha, -1, 15, 62, 9, 7470, 8090, Computer ...     NaN  \n",
            "(Balaraman Muthupandi, -1, 9, 0, 0, 7670, 8050,...     NaN  \n",
            "(JPradhap, 100, 0, 0, 0, 7340, 8030, Electronic...     NaN  \n",
            "(SRIRAMKUMAR B, -1, 0, 0, 0, 6400, 7940, Comput...     NaN  \n",
            "(Praneetha, -1, 23, 100, -1, 7170, 7730, Electr...     NaN  \n",
            "(Rahul Raj K, -1, 0, 0, 0, 6280, 7640, Computer...     NaN  \n",
            "(Guhan S, -1, 72, 35, 39, 7310, 7630, Electroni...     NaN  \n",
            "(Suryarajan S, -1, 63, 31, 0, 6710, 7550, Compu...     NaN  \n",
            "(Narasimhan Y L, -1, -1, 0, 0, 4800, 6800, Comp...     NaN  \n",
            "(Leelakrishna, -1, 6, 4, 0, 5300, 6640, Compute...     NaN  \n",
            "(PremsagarReddy, -1, 20, 0, 0, 5290, 6290, Comp...     NaN  \n",
            "(pradeeban, 16, 20, 24, 0, 6060, 6090, Computer...     NaN  \n",
            "(santhoshini, -1, 43, 0, 0, 3910, 5740, Compute...     NaN  \n",
            "(MUKESH S M, -1, 46, 0, 0, 5200, 5200, Computer...     NaN  \n",
            "(P.GOVARDHANAN, -1, 40, 0, -1, 5050, 5050, Elec...     NaN  \n",
            "(SHAIK DANISH, -1, 43, 0, 0, 4050, 4820, Comput...     NaN  \n",
            "(sridhar.s, -1, 52, 0, 0, 3860, 4440, Computer ...     NaN  \n",
            "(Vimalesh Fernando, -1, 0, 0, 0, 4170, 4170, Co...     NaN  \n",
            "(M.Karthikeyan, -1, 0, 4, 6, 4020, 4020, Comput...     NaN  \n",
            "(Abishak s, -1, 55, 35, 6, 3220, 3220, Electron...     NaN  \n",
            "(praveen raj j, 24, -1, 0, 0, 2380, 2380, Compu...     NaN  \n",
            "(AMARNATH D, -1, 52, 12, -1, 1890, 1890, Electr...     NaN  \n",
            "(bala, 32, 49, 0, -1, 1720, 1720, Electronics a...     NaN  \n",
            "(XY Z, -1, 20, -1, -1, 0, 0, Computer Science a...     NaN  \n",
            "(Hariharan, -1, -1, -1, 0, 0, 0, Computer Scien...     NaN  \n"
          ]
        }
      ],
      "source": [
        "data1 = pd.read_csv(\"/content/college_1.csv\")\n",
        "data2 = pd.read_csv(\"/content/college_2.csv\")\n",
        "df = pd.DataFrame(data1,data2)\n",
        "print(df)"
      ]
    },
    {
      "cell_type": "code",
      "source": [
        "df = data1.merge(data2,how='outer')\n",
        "print(df)\n"
      ],
      "metadata": {
        "colab": {
          "base_uri": "https://localhost:8080/"
        },
        "id": "vWWW5iZAINtD",
        "outputId": "03e23e18-8d24-4052-ba5c-27ea0ce01dcd"
      },
      "execution_count": 35,
      "outputs": [
        {
          "output_type": "stream",
          "name": "stdout",
          "text": [
            "              Name  python  mysql  Previous Geekions  CodeKata Score  \\\n",
            "0        A.Dharani    82.0   20.0              24500           24500   \n",
            "1      V.JEEVITHA     82.0   20.0              21740           21740   \n",
            "2      HEMAVATHI.R   100.0  100.0              19680           19680   \n",
            "3      Mugunthan S   100.0   47.0              10610           10610   \n",
            "4      Sathammai.S   100.0    8.0               8980            8980   \n",
            "..             ...     ...    ...                ...             ...   \n",
            "114  praveen raj j    24.0    0.0               2380            2380   \n",
            "115     AMARNATH D    -1.0   12.0               1890            1890   \n",
            "116           bala    32.0    0.0               1720            1720   \n",
            "117           XY Z    -1.0   -1.0                  0               0   \n",
            "118      Hariharan    -1.0   -1.0                  0               0   \n",
            "\n",
            "                                    Department  Rising  python_en  \\\n",
            "0             Computer Science and Engineering       0        NaN   \n",
            "1             Computer Science and Engineering       0        NaN   \n",
            "2             Computer Science and Engineering       0        NaN   \n",
            "3             Computer Science and Engineering       0        NaN   \n",
            "4             Computer Science and Engineering       0        NaN   \n",
            "..                                         ...     ...        ...   \n",
            "114           Computer Science and Engineering       0       -1.0   \n",
            "115  Electronics and Communication Engineering       0       52.0   \n",
            "116  Electronics and Communication Engineering       0       49.0   \n",
            "117           Computer Science and Engineering       0       20.0   \n",
            "118           Computer Science and Engineering       0       -1.0   \n",
            "\n",
            "     computational_thinking  \n",
            "0                       NaN  \n",
            "1                       NaN  \n",
            "2                       NaN  \n",
            "3                       NaN  \n",
            "4                       NaN  \n",
            "..                      ...  \n",
            "114                     0.0  \n",
            "115                    -1.0  \n",
            "116                    -1.0  \n",
            "117                    -1.0  \n",
            "118                     0.0  \n",
            "\n",
            "[119 rows x 9 columns]\n"
          ]
        },
        {
          "output_type": "stream",
          "name": "stderr",
          "text": [
            "/usr/local/lib/python3.8/dist-packages/pandas/core/reshape/merge.py:1204: UserWarning: You are merging on int and float columns where the float values are not equal to their int representation\n",
            "  warnings.warn(\n"
          ]
        }
      ]
    },
    {
      "cell_type": "code",
      "source": [
        "df.columns"
      ],
      "metadata": {
        "colab": {
          "base_uri": "https://localhost:8080/"
        },
        "id": "E9GAei4AWmg-",
        "outputId": "0327bebd-e039-46c9-d1cf-66ddd9ebc1d8"
      },
      "execution_count": 36,
      "outputs": [
        {
          "output_type": "execute_result",
          "data": {
            "text/plain": [
              "Index(['Name', 'python', 'mysql', 'Previous Geekions', 'CodeKata Score',\n",
              "       'Department', 'Rising', 'python_en', 'computational_thinking'],\n",
              "      dtype='object')"
            ]
          },
          "metadata": {},
          "execution_count": 36
        }
      ]
    },
    {
      "cell_type": "markdown",
      "metadata": {
        "id": "lM8W5_4HC_jl"
      },
      "source": [
        "###### Take each csv file , split that csv file into multiple categories (example csv files are added in the repo) \n"
      ]
    },
    {
      "cell_type": "markdown",
      "metadata": {
        "id": "NxjXl4NuC_jl"
      },
      "source": [
        "###### consider if the codekata score exceeds 15000 points(present week) then make a csv on those observations as Exceeded expectations.csv\n"
      ]
    },
    {
      "cell_type": "markdown",
      "metadata": {
        "id": "FWQRThu2C_jm"
      },
      "source": [
        "###### if  10000<codekata score<15000   (Reached_expectations.csv)\n",
        "\n"
      ]
    },
    {
      "cell_type": "markdown",
      "metadata": {
        "id": "3M3tb9MNC_jn"
      },
      "source": [
        "###### if  7000<codekata score<10000   (Needs_Improvement.csv)\n"
      ]
    },
    {
      "cell_type": "markdown",
      "metadata": {
        "id": "4xUcPWw_C_jn"
      },
      "source": [
        "###### if  codekate score < 7000        (Unsatisfactory.csv)"
      ]
    },
    {
      "cell_type": "markdown",
      "source": [
        "**Average of previous week geekions vs this week geekions (i.e Previous Geekions vs CodeKata Score)**"
      ],
      "metadata": {
        "id": "s2cpIO5zgRs5"
      }
    },
    {
      "cell_type": "code",
      "execution_count": null,
      "metadata": {
        "id": "b9d8AOcLC_jp"
      },
      "outputs": [],
      "source": [
        "if codekata Score <10000 and <15000:\n",
        "  print(\"reached_expectation\")"
      ]
    },
    {
      "cell_type": "markdown",
      "metadata": {
        "id": "4yx0XX7PC_jq"
      },
      "source": [
        "###### No of students participated "
      ]
    },
    {
      "cell_type": "code",
      "execution_count": 49,
      "metadata": {
        "colab": {
          "base_uri": "https://localhost:8080/"
        },
        "id": "O5GWNDvNC_jq",
        "outputId": "2ebf8fa6-7714-4a7b-b9b0-5f8d0089dce2"
      },
      "outputs": [
        {
          "output_type": "execute_result",
          "data": {
            "text/plain": [
              "A.Dharani            1\n",
              "santhosh             1\n",
              "Bodipudi Harini      1\n",
              "Ganesh Ramkumar R    1\n",
              "Chandru              1\n",
              "                    ..\n",
              "Barath D             1\n",
              "tamilarasi           1\n",
              "SOWMIYA.V            1\n",
              "SarumathiR           1\n",
              "Hariharan            1\n",
              "Name: Name, Length: 119, dtype: int64"
            ]
          },
          "metadata": {},
          "execution_count": 49
        }
      ],
      "source": [
        "import pandas as pd\n",
        "pd.value_counts(df['Name'])"
      ]
    },
    {
      "cell_type": "markdown",
      "metadata": {
        "id": "8dDpYtLnC_jr"
      },
      "source": [
        "###### #Average completion of python course or my_sql or python english or computational thinking"
      ]
    },
    {
      "cell_type": "code",
      "execution_count": null,
      "metadata": {
        "id": "lCQfW3ueC_jr"
      },
      "outputs": [],
      "source": [
        "df.set_index(['python','mysql'],inplace=True)"
      ]
    },
    {
      "cell_type": "markdown",
      "metadata": {
        "id": "rxEhOJYrC_jr"
      },
      "source": [
        "###### rising star of the week (top 3 candidate who performed well in that particular week)"
      ]
    },
    {
      "cell_type": "code",
      "execution_count": 51,
      "metadata": {
        "colab": {
          "base_uri": "https://localhost:8080/",
          "height": 288
        },
        "id": "tLiPnmwAC_js",
        "outputId": "f55f0c37-cc9e-4e0b-823f-f16e65db47a2"
      },
      "outputs": [
        {
          "output_type": "execute_result",
          "data": {
            "text/plain": [
              "                      Name  mysql  Previous Geekions  CodeKata Score  \\\n",
              "python python                                                          \n",
              "82.0   82.0      A.Dharani   20.0              24500           24500   \n",
              "       82.0    V.JEEVITHA    20.0              21740           21740   \n",
              "100.0  100.0   HEMAVATHI.R  100.0              19680           19680   \n",
              "\n",
              "                                     Department  Rising  python_en  \\\n",
              "python python                                                        \n",
              "82.0   82.0    Computer Science and Engineering       0        NaN   \n",
              "       82.0    Computer Science and Engineering       0        NaN   \n",
              "100.0  100.0   Computer Science and Engineering       0        NaN   \n",
              "\n",
              "               computational_thinking  \n",
              "python python                          \n",
              "82.0   82.0                       NaN  \n",
              "       82.0                       NaN  \n",
              "100.0  100.0                      NaN  "
            ],
            "text/html": [
              "\n",
              "  <div id=\"df-f5493869-be6b-4581-82ed-0cde2546e8db\">\n",
              "    <div class=\"colab-df-container\">\n",
              "      <div>\n",
              "<style scoped>\n",
              "    .dataframe tbody tr th:only-of-type {\n",
              "        vertical-align: middle;\n",
              "    }\n",
              "\n",
              "    .dataframe tbody tr th {\n",
              "        vertical-align: top;\n",
              "    }\n",
              "\n",
              "    .dataframe thead th {\n",
              "        text-align: right;\n",
              "    }\n",
              "</style>\n",
              "<table border=\"1\" class=\"dataframe\">\n",
              "  <thead>\n",
              "    <tr style=\"text-align: right;\">\n",
              "      <th></th>\n",
              "      <th></th>\n",
              "      <th>Name</th>\n",
              "      <th>mysql</th>\n",
              "      <th>Previous Geekions</th>\n",
              "      <th>CodeKata Score</th>\n",
              "      <th>Department</th>\n",
              "      <th>Rising</th>\n",
              "      <th>python_en</th>\n",
              "      <th>computational_thinking</th>\n",
              "    </tr>\n",
              "    <tr>\n",
              "      <th>python</th>\n",
              "      <th>python</th>\n",
              "      <th></th>\n",
              "      <th></th>\n",
              "      <th></th>\n",
              "      <th></th>\n",
              "      <th></th>\n",
              "      <th></th>\n",
              "      <th></th>\n",
              "      <th></th>\n",
              "    </tr>\n",
              "  </thead>\n",
              "  <tbody>\n",
              "    <tr>\n",
              "      <th rowspan=\"2\" valign=\"top\">82.0</th>\n",
              "      <th>82.0</th>\n",
              "      <td>A.Dharani</td>\n",
              "      <td>20.0</td>\n",
              "      <td>24500</td>\n",
              "      <td>24500</td>\n",
              "      <td>Computer Science and Engineering</td>\n",
              "      <td>0</td>\n",
              "      <td>NaN</td>\n",
              "      <td>NaN</td>\n",
              "    </tr>\n",
              "    <tr>\n",
              "      <th>82.0</th>\n",
              "      <td>V.JEEVITHA</td>\n",
              "      <td>20.0</td>\n",
              "      <td>21740</td>\n",
              "      <td>21740</td>\n",
              "      <td>Computer Science and Engineering</td>\n",
              "      <td>0</td>\n",
              "      <td>NaN</td>\n",
              "      <td>NaN</td>\n",
              "    </tr>\n",
              "    <tr>\n",
              "      <th>100.0</th>\n",
              "      <th>100.0</th>\n",
              "      <td>HEMAVATHI.R</td>\n",
              "      <td>100.0</td>\n",
              "      <td>19680</td>\n",
              "      <td>19680</td>\n",
              "      <td>Computer Science and Engineering</td>\n",
              "      <td>0</td>\n",
              "      <td>NaN</td>\n",
              "      <td>NaN</td>\n",
              "    </tr>\n",
              "  </tbody>\n",
              "</table>\n",
              "</div>\n",
              "      <button class=\"colab-df-convert\" onclick=\"convertToInteractive('df-f5493869-be6b-4581-82ed-0cde2546e8db')\"\n",
              "              title=\"Convert this dataframe to an interactive table.\"\n",
              "              style=\"display:none;\">\n",
              "        \n",
              "  <svg xmlns=\"http://www.w3.org/2000/svg\" height=\"24px\"viewBox=\"0 0 24 24\"\n",
              "       width=\"24px\">\n",
              "    <path d=\"M0 0h24v24H0V0z\" fill=\"none\"/>\n",
              "    <path d=\"M18.56 5.44l.94 2.06.94-2.06 2.06-.94-2.06-.94-.94-2.06-.94 2.06-2.06.94zm-11 1L8.5 8.5l.94-2.06 2.06-.94-2.06-.94L8.5 2.5l-.94 2.06-2.06.94zm10 10l.94 2.06.94-2.06 2.06-.94-2.06-.94-.94-2.06-.94 2.06-2.06.94z\"/><path d=\"M17.41 7.96l-1.37-1.37c-.4-.4-.92-.59-1.43-.59-.52 0-1.04.2-1.43.59L10.3 9.45l-7.72 7.72c-.78.78-.78 2.05 0 2.83L4 21.41c.39.39.9.59 1.41.59.51 0 1.02-.2 1.41-.59l7.78-7.78 2.81-2.81c.8-.78.8-2.07 0-2.86zM5.41 20L4 18.59l7.72-7.72 1.47 1.35L5.41 20z\"/>\n",
              "  </svg>\n",
              "      </button>\n",
              "      \n",
              "  <style>\n",
              "    .colab-df-container {\n",
              "      display:flex;\n",
              "      flex-wrap:wrap;\n",
              "      gap: 12px;\n",
              "    }\n",
              "\n",
              "    .colab-df-convert {\n",
              "      background-color: #E8F0FE;\n",
              "      border: none;\n",
              "      border-radius: 50%;\n",
              "      cursor: pointer;\n",
              "      display: none;\n",
              "      fill: #1967D2;\n",
              "      height: 32px;\n",
              "      padding: 0 0 0 0;\n",
              "      width: 32px;\n",
              "    }\n",
              "\n",
              "    .colab-df-convert:hover {\n",
              "      background-color: #E2EBFA;\n",
              "      box-shadow: 0px 1px 2px rgba(60, 64, 67, 0.3), 0px 1px 3px 1px rgba(60, 64, 67, 0.15);\n",
              "      fill: #174EA6;\n",
              "    }\n",
              "\n",
              "    [theme=dark] .colab-df-convert {\n",
              "      background-color: #3B4455;\n",
              "      fill: #D2E3FC;\n",
              "    }\n",
              "\n",
              "    [theme=dark] .colab-df-convert:hover {\n",
              "      background-color: #434B5C;\n",
              "      box-shadow: 0px 1px 3px 1px rgba(0, 0, 0, 0.15);\n",
              "      filter: drop-shadow(0px 1px 2px rgba(0, 0, 0, 0.3));\n",
              "      fill: #FFFFFF;\n",
              "    }\n",
              "  </style>\n",
              "\n",
              "      <script>\n",
              "        const buttonEl =\n",
              "          document.querySelector('#df-f5493869-be6b-4581-82ed-0cde2546e8db button.colab-df-convert');\n",
              "        buttonEl.style.display =\n",
              "          google.colab.kernel.accessAllowed ? 'block' : 'none';\n",
              "\n",
              "        async function convertToInteractive(key) {\n",
              "          const element = document.querySelector('#df-f5493869-be6b-4581-82ed-0cde2546e8db');\n",
              "          const dataTable =\n",
              "            await google.colab.kernel.invokeFunction('convertToInteractive',\n",
              "                                                     [key], {});\n",
              "          if (!dataTable) return;\n",
              "\n",
              "          const docLinkHtml = 'Like what you see? Visit the ' +\n",
              "            '<a target=\"_blank\" href=https://colab.research.google.com/notebooks/data_table.ipynb>data table notebook</a>'\n",
              "            + ' to learn more about interactive tables.';\n",
              "          element.innerHTML = '';\n",
              "          dataTable['output_type'] = 'display_data';\n",
              "          await google.colab.output.renderOutput(dataTable, element);\n",
              "          const docLink = document.createElement('div');\n",
              "          docLink.innerHTML = docLinkHtml;\n",
              "          element.appendChild(docLink);\n",
              "        }\n",
              "      </script>\n",
              "    </div>\n",
              "  </div>\n",
              "  "
            ]
          },
          "metadata": {},
          "execution_count": 51
        }
      ],
      "source": [
        "df.head(3)"
      ]
    },
    {
      "cell_type": "markdown",
      "metadata": {
        "id": "oSdBrF6LC_js"
      },
      "source": [
        "###### Shining stars of the week (top 3 candidates who has highest geekions)"
      ]
    },
    {
      "cell_type": "code",
      "execution_count": 52,
      "metadata": {
        "colab": {
          "base_uri": "https://localhost:8080/",
          "height": 288
        },
        "id": "tPWt-KimC_js",
        "outputId": "5495136a-13f1-49c1-f92a-46710ea7681c"
      },
      "outputs": [
        {
          "output_type": "execute_result",
          "data": {
            "text/plain": [
              "                    Name  mysql  Previous Geekions  CodeKata Score  \\\n",
              "python python                                                        \n",
              " 32.0   32.0        bala    0.0               1720            1720   \n",
              "-1.0   -1.0         XY Z   -1.0                  0               0   \n",
              "       -1.0    Hariharan   -1.0                  0               0   \n",
              "\n",
              "                                              Department  Rising  python_en  \\\n",
              "python python                                                                 \n",
              " 32.0   32.0   Electronics and Communication Engineering       0       49.0   \n",
              "-1.0   -1.0             Computer Science and Engineering       0       20.0   \n",
              "       -1.0             Computer Science and Engineering       0       -1.0   \n",
              "\n",
              "               computational_thinking  \n",
              "python python                          \n",
              " 32.0   32.0                     -1.0  \n",
              "-1.0   -1.0                      -1.0  \n",
              "       -1.0                       0.0  "
            ],
            "text/html": [
              "\n",
              "  <div id=\"df-d4b84380-40a8-4744-806f-50298c81a762\">\n",
              "    <div class=\"colab-df-container\">\n",
              "      <div>\n",
              "<style scoped>\n",
              "    .dataframe tbody tr th:only-of-type {\n",
              "        vertical-align: middle;\n",
              "    }\n",
              "\n",
              "    .dataframe tbody tr th {\n",
              "        vertical-align: top;\n",
              "    }\n",
              "\n",
              "    .dataframe thead th {\n",
              "        text-align: right;\n",
              "    }\n",
              "</style>\n",
              "<table border=\"1\" class=\"dataframe\">\n",
              "  <thead>\n",
              "    <tr style=\"text-align: right;\">\n",
              "      <th></th>\n",
              "      <th></th>\n",
              "      <th>Name</th>\n",
              "      <th>mysql</th>\n",
              "      <th>Previous Geekions</th>\n",
              "      <th>CodeKata Score</th>\n",
              "      <th>Department</th>\n",
              "      <th>Rising</th>\n",
              "      <th>python_en</th>\n",
              "      <th>computational_thinking</th>\n",
              "    </tr>\n",
              "    <tr>\n",
              "      <th>python</th>\n",
              "      <th>python</th>\n",
              "      <th></th>\n",
              "      <th></th>\n",
              "      <th></th>\n",
              "      <th></th>\n",
              "      <th></th>\n",
              "      <th></th>\n",
              "      <th></th>\n",
              "      <th></th>\n",
              "    </tr>\n",
              "  </thead>\n",
              "  <tbody>\n",
              "    <tr>\n",
              "      <th>32.0</th>\n",
              "      <th>32.0</th>\n",
              "      <td>bala</td>\n",
              "      <td>0.0</td>\n",
              "      <td>1720</td>\n",
              "      <td>1720</td>\n",
              "      <td>Electronics and Communication Engineering</td>\n",
              "      <td>0</td>\n",
              "      <td>49.0</td>\n",
              "      <td>-1.0</td>\n",
              "    </tr>\n",
              "    <tr>\n",
              "      <th rowspan=\"2\" valign=\"top\">-1.0</th>\n",
              "      <th>-1.0</th>\n",
              "      <td>XY Z</td>\n",
              "      <td>-1.0</td>\n",
              "      <td>0</td>\n",
              "      <td>0</td>\n",
              "      <td>Computer Science and Engineering</td>\n",
              "      <td>0</td>\n",
              "      <td>20.0</td>\n",
              "      <td>-1.0</td>\n",
              "    </tr>\n",
              "    <tr>\n",
              "      <th>-1.0</th>\n",
              "      <td>Hariharan</td>\n",
              "      <td>-1.0</td>\n",
              "      <td>0</td>\n",
              "      <td>0</td>\n",
              "      <td>Computer Science and Engineering</td>\n",
              "      <td>0</td>\n",
              "      <td>-1.0</td>\n",
              "      <td>0.0</td>\n",
              "    </tr>\n",
              "  </tbody>\n",
              "</table>\n",
              "</div>\n",
              "      <button class=\"colab-df-convert\" onclick=\"convertToInteractive('df-d4b84380-40a8-4744-806f-50298c81a762')\"\n",
              "              title=\"Convert this dataframe to an interactive table.\"\n",
              "              style=\"display:none;\">\n",
              "        \n",
              "  <svg xmlns=\"http://www.w3.org/2000/svg\" height=\"24px\"viewBox=\"0 0 24 24\"\n",
              "       width=\"24px\">\n",
              "    <path d=\"M0 0h24v24H0V0z\" fill=\"none\"/>\n",
              "    <path d=\"M18.56 5.44l.94 2.06.94-2.06 2.06-.94-2.06-.94-.94-2.06-.94 2.06-2.06.94zm-11 1L8.5 8.5l.94-2.06 2.06-.94-2.06-.94L8.5 2.5l-.94 2.06-2.06.94zm10 10l.94 2.06.94-2.06 2.06-.94-2.06-.94-.94-2.06-.94 2.06-2.06.94z\"/><path d=\"M17.41 7.96l-1.37-1.37c-.4-.4-.92-.59-1.43-.59-.52 0-1.04.2-1.43.59L10.3 9.45l-7.72 7.72c-.78.78-.78 2.05 0 2.83L4 21.41c.39.39.9.59 1.41.59.51 0 1.02-.2 1.41-.59l7.78-7.78 2.81-2.81c.8-.78.8-2.07 0-2.86zM5.41 20L4 18.59l7.72-7.72 1.47 1.35L5.41 20z\"/>\n",
              "  </svg>\n",
              "      </button>\n",
              "      \n",
              "  <style>\n",
              "    .colab-df-container {\n",
              "      display:flex;\n",
              "      flex-wrap:wrap;\n",
              "      gap: 12px;\n",
              "    }\n",
              "\n",
              "    .colab-df-convert {\n",
              "      background-color: #E8F0FE;\n",
              "      border: none;\n",
              "      border-radius: 50%;\n",
              "      cursor: pointer;\n",
              "      display: none;\n",
              "      fill: #1967D2;\n",
              "      height: 32px;\n",
              "      padding: 0 0 0 0;\n",
              "      width: 32px;\n",
              "    }\n",
              "\n",
              "    .colab-df-convert:hover {\n",
              "      background-color: #E2EBFA;\n",
              "      box-shadow: 0px 1px 2px rgba(60, 64, 67, 0.3), 0px 1px 3px 1px rgba(60, 64, 67, 0.15);\n",
              "      fill: #174EA6;\n",
              "    }\n",
              "\n",
              "    [theme=dark] .colab-df-convert {\n",
              "      background-color: #3B4455;\n",
              "      fill: #D2E3FC;\n",
              "    }\n",
              "\n",
              "    [theme=dark] .colab-df-convert:hover {\n",
              "      background-color: #434B5C;\n",
              "      box-shadow: 0px 1px 3px 1px rgba(0, 0, 0, 0.15);\n",
              "      filter: drop-shadow(0px 1px 2px rgba(0, 0, 0, 0.3));\n",
              "      fill: #FFFFFF;\n",
              "    }\n",
              "  </style>\n",
              "\n",
              "      <script>\n",
              "        const buttonEl =\n",
              "          document.querySelector('#df-d4b84380-40a8-4744-806f-50298c81a762 button.colab-df-convert');\n",
              "        buttonEl.style.display =\n",
              "          google.colab.kernel.accessAllowed ? 'block' : 'none';\n",
              "\n",
              "        async function convertToInteractive(key) {\n",
              "          const element = document.querySelector('#df-d4b84380-40a8-4744-806f-50298c81a762');\n",
              "          const dataTable =\n",
              "            await google.colab.kernel.invokeFunction('convertToInteractive',\n",
              "                                                     [key], {});\n",
              "          if (!dataTable) return;\n",
              "\n",
              "          const docLinkHtml = 'Like what you see? Visit the ' +\n",
              "            '<a target=\"_blank\" href=https://colab.research.google.com/notebooks/data_table.ipynb>data table notebook</a>'\n",
              "            + ' to learn more about interactive tables.';\n",
              "          element.innerHTML = '';\n",
              "          dataTable['output_type'] = 'display_data';\n",
              "          await google.colab.output.renderOutput(dataTable, element);\n",
              "          const docLink = document.createElement('div');\n",
              "          docLink.innerHTML = docLinkHtml;\n",
              "          element.appendChild(docLink);\n",
              "        }\n",
              "      </script>\n",
              "    </div>\n",
              "  </div>\n",
              "  "
            ]
          },
          "metadata": {},
          "execution_count": 52
        }
      ],
      "source": [
        "df.tail(3)"
      ]
    },
    {
      "cell_type": "markdown",
      "metadata": {
        "id": "nYl31Dr-C_js"
      },
      "source": [
        "###### Department wise codekata performence (pie chart)"
      ]
    },
    {
      "cell_type": "code",
      "execution_count": 59,
      "metadata": {
        "colab": {
          "base_uri": "https://localhost:8080/",
          "height": 131
        },
        "id": "vfPiWvzfC_jt",
        "outputId": "54df330a-70b4-4f6d-9467-1bebd95be97e"
      },
      "outputs": [
        {
          "output_type": "error",
          "ename": "SyntaxError",
          "evalue": "ignored",
          "traceback": [
            "\u001b[0;36m  File \u001b[0;32m\"<ipython-input-59-7f0dd077623e>\"\u001b[0;36m, line \u001b[0;32m5\u001b[0m\n\u001b[0;31m    courses = [Electronics and Communication Engineering,Computer Science and Engineering]\u001b[0m\n\u001b[0m                                             ^\u001b[0m\n\u001b[0;31mSyntaxError\u001b[0m\u001b[0;31m:\u001b[0m invalid syntax\n"
          ]
        }
      ],
      "source": [
        "import matplotlib.pyplot as plt\n",
        "fig = plt.figure()\n",
        "ax = fig.add_axes([0,0,1,1])\n",
        "department = ['Department']\n",
        "courses = [Electronics and Communication Engineering,Computer Science and Engineering]\n",
        "ax.pie(courses,labels=courses)\n",
        "plt.show()"
      ]
    },
    {
      "cell_type": "markdown",
      "metadata": {
        "id": "nGbiY0EJC_jt"
      },
      "source": [
        "###### Department wise toppers (horizantal bar graph or any visual representations of your choice)"
      ]
    },
    {
      "cell_type": "code",
      "execution_count": null,
      "metadata": {
        "id": "lMuzjJNeC_jt"
      },
      "outputs": [],
      "source": []
    },
    {
      "cell_type": "code",
      "execution_count": null,
      "metadata": {
        "id": "9_ZorkzSC_ju"
      },
      "outputs": [],
      "source": []
    },
    {
      "cell_type": "code",
      "execution_count": null,
      "metadata": {
        "id": "MXTQtllbC_ju"
      },
      "outputs": [],
      "source": []
    },
    {
      "cell_type": "code",
      "execution_count": null,
      "metadata": {
        "id": "0KXfGjoMC_ju"
      },
      "outputs": [],
      "source": []
    }
  ],
  "metadata": {
    "kernelspec": {
      "display_name": "Python 3",
      "language": "python",
      "name": "python3"
    },
    "language_info": {
      "codemirror_mode": {
        "name": "ipython",
        "version": 3
      },
      "file_extension": ".py",
      "mimetype": "text/x-python",
      "name": "python",
      "nbconvert_exporter": "python",
      "pygments_lexer": "ipython3",
      "version": "3.8.3"
    },
    "colab": {
      "provenance": [],
      "include_colab_link": true
    }
  },
  "nbformat": 4,
  "nbformat_minor": 0
}